{
  "nbformat": 4,
  "nbformat_minor": 0,
  "metadata": {
    "colab": {
      "provenance": []
    },
    "kernelspec": {
      "name": "python3",
      "display_name": "Python 3"
    },
    "language_info": {
      "name": "python"
    }
  },
  "cells": [
    {
      "cell_type": "code",
      "execution_count": 1,
      "metadata": {
        "id": "V5BrUz0yvGAa"
      },
      "outputs": [],
      "source": [
        "import pandas as pd"
      ]
    },
    {
      "cell_type": "code",
      "source": [
        "df=pd.read_csv('/content/drive/MyDrive/Olist/Tablas/Tabla1FinalCorrejida.csv', sep=';')"
      ],
      "metadata": {
        "id": "89I6mCnQvUJb"
      },
      "execution_count": 4,
      "outputs": []
    },
    {
      "cell_type": "code",
      "source": [
        "las10Lista=['Belleza y Salud', 'Auto', 'Ocio y Deportes','Accesorios de Computadoras', 'Decoración de muebles','Mesa, Baño , Cama', 'Cosas Interesantes','Artículos para el hogar', 'Relojes y Regalos', 'Juguetes']"
      ],
      "metadata": {
        "id": "iC6o_1DZvn6b"
      },
      "execution_count": 2,
      "outputs": []
    },
    {
      "cell_type": "code",
      "source": [
        "dff=df[df['product_category_name'].isin(las10Lista)]\n",
        "dff['product_category_name'].unique()"
      ],
      "metadata": {
        "colab": {
          "base_uri": "https://localhost:8080/"
        },
        "id": "dQnrlMCuv4gC",
        "outputId": "93182402-742a-48b8-8ad2-682f22f231a0"
      },
      "execution_count": 5,
      "outputs": [
        {
          "output_type": "execute_result",
          "data": {
            "text/plain": [
              "array(['Belleza y Salud', 'Auto', 'Ocio y Deportes',\n",
              "       'Accesorios de Computadoras', 'Decoración de muebles',\n",
              "       'Mesa, Baño , Cama', 'Cosas Interesantes',\n",
              "       'Artículos para el hogar', 'Relojes y Regalos', 'Juguetes'],\n",
              "      dtype=object)"
            ]
          },
          "metadata": {},
          "execution_count": 5
        }
      ]
    },
    {
      "cell_type": "code",
      "source": [
        "dff['order_purchase_timestamp']=pd.to_datetime(dff['order_purchase_timestamp'])\n",
        "dff['fecha']= dff['order_purchase_timestamp'].dt.date"
      ],
      "metadata": {
        "colab": {
          "base_uri": "https://localhost:8080/"
        },
        "id": "I7l16-6Pv-Uh",
        "outputId": "afb214d4-f2ba-4fdf-b9f6-3dbb6edea613"
      },
      "execution_count": 6,
      "outputs": [
        {
          "output_type": "stream",
          "name": "stderr",
          "text": [
            "<ipython-input-6-30f828c047e8>:1: SettingWithCopyWarning: \n",
            "A value is trying to be set on a copy of a slice from a DataFrame.\n",
            "Try using .loc[row_indexer,col_indexer] = value instead\n",
            "\n",
            "See the caveats in the documentation: https://pandas.pydata.org/pandas-docs/stable/user_guide/indexing.html#returning-a-view-versus-a-copy\n",
            "  dff['order_purchase_timestamp']=pd.to_datetime(dff['order_purchase_timestamp'])\n",
            "<ipython-input-6-30f828c047e8>:2: SettingWithCopyWarning: \n",
            "A value is trying to be set on a copy of a slice from a DataFrame.\n",
            "Try using .loc[row_indexer,col_indexer] = value instead\n",
            "\n",
            "See the caveats in the documentation: https://pandas.pydata.org/pandas-docs/stable/user_guide/indexing.html#returning-a-view-versus-a-copy\n",
            "  dff['fecha']= dff['order_purchase_timestamp'].dt.date\n"
          ]
        }
      ]
    },
    {
      "cell_type": "code",
      "source": [
        "from prophet import Prophet\n",
        "import matplotlib.pyplot as plt\n",
        "\n",
        "for cat in dff['product_category_name'].unique():\n",
        "  dfCat=dff[dff['product_category_name']==cat]\n",
        "  dfCat['fecha']=pd.to_datetime(dfCat['fecha'])\n",
        "  dfCat=dfCat.groupby('fecha')['price'].sum().reset_index()\n",
        "  dfCat.reset_index(level=0,inplace=True)\n",
        "  dfCat.rename(columns={'fecha':'ds','price':'y'}, inplace=True)\n",
        "  # # Instanciamos un modelo de Prophet\n",
        "\n",
        "  # prophet = Prophet(yearly_seasonality= True, uncertainty_samples = 50, mcmc_samples=50, interval_width= 0.6)\n",
        "\n",
        "  # # Entrenamos el modelo\n",
        "  # prophet.fit(dfCat)\n",
        "\n",
        "  # # Construimos un dataframe con los x valores futuros que querámos predecir. En este caso, 4 años.\n",
        "  # build_forecast = prophet.make_future_dataframe(periods=(4*52), freq='W') #\n",
        "\n",
        "  # # Predecimos\n",
        "  # forecast = prophet.predict(build_forecast)\n",
        "\n",
        "  # # plot forecasts\n",
        "\n",
        "  # prophet.plot(forecast, xlabel='Fecha', ylabel='Ventas', figsize = (16,6))\n",
        "  # plt.title(f'Predicción de ventas de la Categoria: {cat} para los próximos 4 años de nuestro dataset', fontsize = 18)\n",
        "  # plt.show()\n",
        "\n",
        "  dfCat.to_csv(cat +'DSY'+'.csv', sep=';', index=False)"
      ],
      "metadata": {
        "colab": {
          "base_uri": "https://localhost:8080/"
        },
        "id": "aAFzWzVkwAb0",
        "outputId": "8690bf16-bebb-46dd-d3b5-df6b60e36ec1"
      },
      "execution_count": 7,
      "outputs": [
        {
          "output_type": "stream",
          "name": "stderr",
          "text": [
            "<ipython-input-7-d2e6b47f9fb3>:6: SettingWithCopyWarning: \n",
            "A value is trying to be set on a copy of a slice from a DataFrame.\n",
            "Try using .loc[row_indexer,col_indexer] = value instead\n",
            "\n",
            "See the caveats in the documentation: https://pandas.pydata.org/pandas-docs/stable/user_guide/indexing.html#returning-a-view-versus-a-copy\n",
            "  dfCat['fecha']=pd.to_datetime(dfCat['fecha'])\n",
            "<ipython-input-7-d2e6b47f9fb3>:6: SettingWithCopyWarning: \n",
            "A value is trying to be set on a copy of a slice from a DataFrame.\n",
            "Try using .loc[row_indexer,col_indexer] = value instead\n",
            "\n",
            "See the caveats in the documentation: https://pandas.pydata.org/pandas-docs/stable/user_guide/indexing.html#returning-a-view-versus-a-copy\n",
            "  dfCat['fecha']=pd.to_datetime(dfCat['fecha'])\n",
            "<ipython-input-7-d2e6b47f9fb3>:6: SettingWithCopyWarning: \n",
            "A value is trying to be set on a copy of a slice from a DataFrame.\n",
            "Try using .loc[row_indexer,col_indexer] = value instead\n",
            "\n",
            "See the caveats in the documentation: https://pandas.pydata.org/pandas-docs/stable/user_guide/indexing.html#returning-a-view-versus-a-copy\n",
            "  dfCat['fecha']=pd.to_datetime(dfCat['fecha'])\n",
            "<ipython-input-7-d2e6b47f9fb3>:6: SettingWithCopyWarning: \n",
            "A value is trying to be set on a copy of a slice from a DataFrame.\n",
            "Try using .loc[row_indexer,col_indexer] = value instead\n",
            "\n",
            "See the caveats in the documentation: https://pandas.pydata.org/pandas-docs/stable/user_guide/indexing.html#returning-a-view-versus-a-copy\n",
            "  dfCat['fecha']=pd.to_datetime(dfCat['fecha'])\n",
            "<ipython-input-7-d2e6b47f9fb3>:6: SettingWithCopyWarning: \n",
            "A value is trying to be set on a copy of a slice from a DataFrame.\n",
            "Try using .loc[row_indexer,col_indexer] = value instead\n",
            "\n",
            "See the caveats in the documentation: https://pandas.pydata.org/pandas-docs/stable/user_guide/indexing.html#returning-a-view-versus-a-copy\n",
            "  dfCat['fecha']=pd.to_datetime(dfCat['fecha'])\n",
            "<ipython-input-7-d2e6b47f9fb3>:6: SettingWithCopyWarning: \n",
            "A value is trying to be set on a copy of a slice from a DataFrame.\n",
            "Try using .loc[row_indexer,col_indexer] = value instead\n",
            "\n",
            "See the caveats in the documentation: https://pandas.pydata.org/pandas-docs/stable/user_guide/indexing.html#returning-a-view-versus-a-copy\n",
            "  dfCat['fecha']=pd.to_datetime(dfCat['fecha'])\n",
            "<ipython-input-7-d2e6b47f9fb3>:6: SettingWithCopyWarning: \n",
            "A value is trying to be set on a copy of a slice from a DataFrame.\n",
            "Try using .loc[row_indexer,col_indexer] = value instead\n",
            "\n",
            "See the caveats in the documentation: https://pandas.pydata.org/pandas-docs/stable/user_guide/indexing.html#returning-a-view-versus-a-copy\n",
            "  dfCat['fecha']=pd.to_datetime(dfCat['fecha'])\n",
            "<ipython-input-7-d2e6b47f9fb3>:6: SettingWithCopyWarning: \n",
            "A value is trying to be set on a copy of a slice from a DataFrame.\n",
            "Try using .loc[row_indexer,col_indexer] = value instead\n",
            "\n",
            "See the caveats in the documentation: https://pandas.pydata.org/pandas-docs/stable/user_guide/indexing.html#returning-a-view-versus-a-copy\n",
            "  dfCat['fecha']=pd.to_datetime(dfCat['fecha'])\n",
            "<ipython-input-7-d2e6b47f9fb3>:6: SettingWithCopyWarning: \n",
            "A value is trying to be set on a copy of a slice from a DataFrame.\n",
            "Try using .loc[row_indexer,col_indexer] = value instead\n",
            "\n",
            "See the caveats in the documentation: https://pandas.pydata.org/pandas-docs/stable/user_guide/indexing.html#returning-a-view-versus-a-copy\n",
            "  dfCat['fecha']=pd.to_datetime(dfCat['fecha'])\n",
            "<ipython-input-7-d2e6b47f9fb3>:6: SettingWithCopyWarning: \n",
            "A value is trying to be set on a copy of a slice from a DataFrame.\n",
            "Try using .loc[row_indexer,col_indexer] = value instead\n",
            "\n",
            "See the caveats in the documentation: https://pandas.pydata.org/pandas-docs/stable/user_guide/indexing.html#returning-a-view-versus-a-copy\n",
            "  dfCat['fecha']=pd.to_datetime(dfCat['fecha'])\n"
          ]
        }
      ]
    }
  ]
}