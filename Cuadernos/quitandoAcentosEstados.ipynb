{
 "cells": [
  {
   "cell_type": "code",
   "execution_count": 2,
   "metadata": {},
   "outputs": [],
   "source": [
    "import pandas as pd\n",
    " "
   ]
  },
  {
   "cell_type": "code",
   "execution_count": 4,
   "metadata": {},
   "outputs": [
    {
     "data": {
      "text/html": [
       "<div>\n",
       "<style scoped>\n",
       "    .dataframe tbody tr th:only-of-type {\n",
       "        vertical-align: middle;\n",
       "    }\n",
       "\n",
       "    .dataframe tbody tr th {\n",
       "        vertical-align: top;\n",
       "    }\n",
       "\n",
       "    .dataframe thead th {\n",
       "        text-align: right;\n",
       "    }\n",
       "</style>\n",
       "<table border=\"1\" class=\"dataframe\">\n",
       "  <thead>\n",
       "    <tr style=\"text-align: right;\">\n",
       "      <th></th>\n",
       "      <th>customer_zip_code_prefix</th>\n",
       "      <th>customer_city</th>\n",
       "      <th>customer_state</th>\n",
       "    </tr>\n",
       "  </thead>\n",
       "  <tbody>\n",
       "    <tr>\n",
       "      <th>0</th>\n",
       "      <td>14409</td>\n",
       "      <td>franca</td>\n",
       "      <td>Sao Paulo</td>\n",
       "    </tr>\n",
       "    <tr>\n",
       "      <th>1</th>\n",
       "      <td>9790</td>\n",
       "      <td>sao bernardo do campo</td>\n",
       "      <td>Sao Paulo</td>\n",
       "    </tr>\n",
       "    <tr>\n",
       "      <th>2</th>\n",
       "      <td>1151</td>\n",
       "      <td>sao paulo</td>\n",
       "      <td>Sao Paulo</td>\n",
       "    </tr>\n",
       "    <tr>\n",
       "      <th>3</th>\n",
       "      <td>8775</td>\n",
       "      <td>mogi das cruzes</td>\n",
       "      <td>Sao Paulo</td>\n",
       "    </tr>\n",
       "    <tr>\n",
       "      <th>4</th>\n",
       "      <td>13056</td>\n",
       "      <td>campinas</td>\n",
       "      <td>Sao Paulo</td>\n",
       "    </tr>\n",
       "    <tr>\n",
       "      <th>...</th>\n",
       "      <td>...</td>\n",
       "      <td>...</td>\n",
       "      <td>...</td>\n",
       "    </tr>\n",
       "    <tr>\n",
       "      <th>15028</th>\n",
       "      <td>87145</td>\n",
       "      <td>paicandu</td>\n",
       "      <td>Paraná</td>\n",
       "    </tr>\n",
       "    <tr>\n",
       "      <th>15029</th>\n",
       "      <td>98860</td>\n",
       "      <td>eugenio de castro</td>\n",
       "      <td>Río Grande do Sul</td>\n",
       "    </tr>\n",
       "    <tr>\n",
       "      <th>15030</th>\n",
       "      <td>5538</td>\n",
       "      <td>sao paulo</td>\n",
       "      <td>Sao Paulo</td>\n",
       "    </tr>\n",
       "    <tr>\n",
       "      <th>15031</th>\n",
       "      <td>74980</td>\n",
       "      <td>aparecida de goiania</td>\n",
       "      <td>Goias</td>\n",
       "    </tr>\n",
       "    <tr>\n",
       "      <th>15032</th>\n",
       "      <td>99043</td>\n",
       "      <td>passo fundo</td>\n",
       "      <td>Río Grande do Sul</td>\n",
       "    </tr>\n",
       "  </tbody>\n",
       "</table>\n",
       "<p>15033 rows × 3 columns</p>\n",
       "</div>"
      ],
      "text/plain": [
       "       customer_zip_code_prefix          customer_city      customer_state\n",
       "0                         14409                 franca           Sao Paulo\n",
       "1                          9790  sao bernardo do campo           Sao Paulo\n",
       "2                          1151              sao paulo           Sao Paulo\n",
       "3                          8775        mogi das cruzes           Sao Paulo\n",
       "4                         13056               campinas           Sao Paulo\n",
       "...                         ...                    ...                 ...\n",
       "15028                     87145               paicandu              Paraná\n",
       "15029                     98860      eugenio de castro   Río Grande do Sul\n",
       "15030                      5538              sao paulo           Sao Paulo\n",
       "15031                     74980   aparecida de goiania               Goias\n",
       "15032                     99043            passo fundo   Río Grande do Sul\n",
       "\n",
       "[15033 rows x 3 columns]"
      ]
     },
     "execution_count": 4,
     "metadata": {},
     "output_type": "execute_result"
    }
   ],
   "source": [
    "df=pd.read_csv('../Tablas Normalizadas/zipCode_City_State_auxiliar.csv', sep=';')\n",
    "df"
   ]
  },
  {
   "cell_type": "code",
   "execution_count": 13,
   "metadata": {},
   "outputs": [
    {
     "data": {
      "text/plain": [
       "array([' Sao Paulo', ' Santa Catarina', ' Minas Gerais', 'Parana',\n",
       "       'Rio de Janeiro', 'Rio Grande do Sul', ' Para', ' Goias',\n",
       "       ' Espirito Santo', ' Bahia', ' Maranhao', ' Mato Grosso do Sul',\n",
       "       ' Ceara', ' Distrito Federal', 'Rio Grande do Norte',\n",
       "       ' Pernambuco', ' Mato Grosso', ' Amazonas', nan, ' Alagoas',\n",
       "       ' Rondonia', ' Paraiba', ' Tocantins', ' Piaui', 'Acre',\n",
       "       ' Sergipe', ' Roraima'], dtype=object)"
      ]
     },
     "execution_count": 13,
     "metadata": {},
     "output_type": "execute_result"
    }
   ],
   "source": [
    "df['customer_state'].unique()"
   ]
  },
  {
   "cell_type": "code",
   "execution_count": 12,
   "metadata": {},
   "outputs": [],
   "source": [
    "df['customer_state']=df['customer_state'].replace(' Río Grande do Norte','Rio Grande do Norte')"
   ]
  },
  {
   "cell_type": "code",
   "execution_count": 14,
   "metadata": {},
   "outputs": [],
   "source": [
    "df['customer_state']=df['customer_state'].fillna('Sin Dato')"
   ]
  },
  {
   "cell_type": "code",
   "execution_count": 15,
   "metadata": {},
   "outputs": [],
   "source": [
    "df.to_csv('zipCode_City_State_auxiliar.csv', sep=';',index=False)"
   ]
  }
 ],
 "metadata": {
  "kernelspec": {
   "display_name": "env",
   "language": "python",
   "name": "python3"
  },
  "language_info": {
   "codemirror_mode": {
    "name": "ipython",
    "version": 3
   },
   "file_extension": ".py",
   "mimetype": "text/x-python",
   "name": "python",
   "nbconvert_exporter": "python",
   "pygments_lexer": "ipython3",
   "version": "3.10.11"
  }
 },
 "nbformat": 4,
 "nbformat_minor": 2
}
